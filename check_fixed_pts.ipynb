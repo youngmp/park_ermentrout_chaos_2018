{
 "cells": [
  {
   "cell_type": "markdown",
   "metadata": {},
   "source": [
    "Check the fixed points of the phase difference system in the theta model."
   ]
  },
  {
   "cell_type": "code",
   "execution_count": 55,
   "metadata": {},
   "outputs": [
    {
     "name": "stdout",
     "output_type": "stream",
     "text": [
      "-0.0229659245788 5.41308967406e-06 -0.0649764204218\n",
      "-0.0229659245788 -1.62630325873e-16\n"
     ]
    }
   ],
   "source": [
    "import numpy as np\n",
    "from scipy.interpolate import interp1d\n",
    "from numpy import mod as m\n",
    "import matplotlib.pylab as mp\n",
    "\n",
    "# load dat file\n",
    "namexx = 'hxx_a1=0.5_b1=7.0_c1=6.5_a2=1.1_b2=25.0_c2=25.1_eps=0.01_mux=1.0_muy=1.0.dat'\n",
    "namexy = 'hxy_a1=0.5_b1=7.0_c1=6.5_a2=1.1_b2=25.0_c2=25.1_eps=0.01_mux=1.0_muy=1.0.dat'\n",
    "nameyx = 'hyx_a1=0.5_b1=7.0_c1=6.5_a2=1.1_b2=25.0_c2=25.1_eps=0.01_mux=1.0_muy=1.0.dat'\n",
    "nameyy = 'hyy_a1=0.5_b1=7.0_c1=6.5_a2=1.1_b2=25.0_c2=25.1_eps=0.01_mux=1.0_muy=1.0.dat'\n",
    "\n",
    "datxx=np.loadtxt(namexx);datxy=np.loadtxt(namexy);datyx=np.loadtxt(nameyx);datyy=np.loadtxt(nameyy)\n",
    "\n",
    "# create interpolated function\n",
    "fxx = interp1d(datxx[:,0],datxx[:,1])\n",
    "fxy = interp1d(datxy[:,0],datxy[:,1])\n",
    "fyx = interp1d(datyx[:,0],datyx[:,1])\n",
    "fyy = interp1d(datyy[:,0],datyy[:,1])\n",
    "\n",
    "#print datxx[-1,0], datxy[-1,0], datyx[-1,0], datyy[-1,0]\n",
    "\n",
    "# import and test some fixed points\n",
    "fp = np.loadtxt('theta_fixed_points1.dat')\n",
    "\n",
    "rownum = 10\n",
    "\n",
    "\n",
    "\n",
    "\n",
    "#px = .27563\n",
    "#py = .72316\n",
    "#pz = 0.28\n",
    "\n",
    "#testnum = len(fp[:,0])\n",
    "\n",
    "testdata = np.linspace(0,1,100)\n",
    "testnum = len(testdata)\n",
    "rhs_px_ar = np.zeros(testnum)\n",
    "rhs_py_ar = np.zeros(testnum)\n",
    "rhs_pz_ar = np.zeros(testnum)\n",
    "\n",
    "\n",
    "\n",
    "for i in range(testnum):\n",
    "    px = testdata[i]#fp[i,6]\n",
    "    py = testdata[i]#fp[i,7]\n",
    "    pz = testdata[i]#fp[i,3]\n",
    "    #repl = -(fyx(m(-pz,1))+fyy(0) + fyx(m(px-pz,1))+fyy(m(py,1)))+fxx(0)+fxy(m(pz,1))\n",
    "\n",
    "    rhs_px_ar[i] = fxx(m(-px,1))-fxx(0) + fxx(0)-fxx(m(px,1)) +\\\n",
    "                fxy(m(-px+pz,1))-fxy(m(pz,1)) + fxy(m(py-px+pz,1))-fxy(m(py+pz,1))\n",
    "    \n",
    "    rhs_px = fxx(m(-px,1))-fxx(0) + fxx(0) +\\\n",
    "            fxy(m(-px+pz,1))-fxy(m(pz,1)) + fxy(m(py-px+pz,1))+repl\n",
    "\n",
    "    rhs_py_ar[i] = fyx(m(-py-pz,1))-fyx(m(-pz,1)) + fyx(m(px-py-pz,1))-fyx(m(px-pz,1)) +\\\n",
    "            fyy(m(-py,1))-fyy(0) + fyy(m(py-py,1))-fyy(m(py,1))\n",
    "\n",
    "    rhs_pz_ar[i] = fyx(m(-pz,1))+fyy(0) + fyx(m(px-pz,1))+fyy(m(py,1)) -\\\n",
    "                fxx(0)-fxy(m(pz,1)) - fxx(m(px,1))-fxy(m(py+pz,1))\n",
    "\n",
    "mp.figure()\n",
    "mp.plot(rhs_px_ar)\n",
    "mp.plot(rhs_py_ar)\n",
    "mp.plot(rhs_pz_ar)\n",
    "mp.show()\n",
    "mp.close()\n",
    "\n",
    "print rhs_px,rhs_py,rhs_pz\n",
    "print repl,-(fxx(m(px,1))+fxy(m(py+pz,1)))"
   ]
  },
  {
   "cell_type": "code",
   "execution_count": null,
   "metadata": {
    "collapsed": true
   },
   "outputs": [],
   "source": []
  }
 ],
 "metadata": {
  "kernelspec": {
   "display_name": "Python 2",
   "language": "python",
   "name": "python2"
  },
  "language_info": {
   "codemirror_mode": {
    "name": "ipython",
    "version": 2
   },
   "file_extension": ".py",
   "mimetype": "text/x-python",
   "name": "python",
   "nbconvert_exporter": "python",
   "pygments_lexer": "ipython2",
   "version": "2.7.6"
  }
 },
 "nbformat": 4,
 "nbformat_minor": 2
}

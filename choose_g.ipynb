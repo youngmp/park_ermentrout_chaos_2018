{
 "cells": [
  {
   "cell_type": "markdown",
   "metadata": {},
   "source": [
    "This notebook has to do with the system\n",
    "$$\\frac{ds^{tb}}{dt} = \\varepsilon \\left( -s^{tb} + f^{tb}(I^{tb})\\right)/\\mu^{tb}$$\n",
    "$$\\frac{ds^{wb}}{dt} = \\varepsilon \\left( -s^{wb} + f^{wb}(I^{wb})\\right)/\\mu^{wb}$$\n",
    "where $I^{tb} = i^{tb} + g_{ee} s^{tb} - g_{ei} s^{wb}$ and $I^{wb} = i^{wb} + g_{ie} s^{tb} - g_{ii} s^{wb}$\n",
    "\n",
    "Following the assumptions of the paper, we want $\\bar s^{tr}=\\bar s^{wb}$ and $f^{tb}(I^{tb})=f^{wb}(I^{wb})$. In this case, recall that $\\bar s=f$, i.e., the mean value of the slow variables is the same as the frequency of the oscillators. This condition allows us to restrict the number of parameters we need to find to just 4.\n",
    "\n",
    "To assist in finding supercritical hopf bifurcations, we use the trace and determinant of the Jacobian to further restrict the parameter values."
   ]
  },
  {
   "cell_type": "code",
   "execution_count": 35,
   "metadata": {},
   "outputs": [
    {
     "name": "stdout",
     "output_type": "stream",
     "text": [
      "ftb_prime = 0.0126506024094\n",
      "fwb_prime = 0.0529933985888\n",
      "it cons = 5.9916 iwb cons = 0.759079373711\n",
      "it mean = 6.0416 iwb mean = 0.809079373711\n",
      "eigenvalues [-0.80167668+0.10463146j -0.80167668-0.10463146j]\n",
      "trace = -1.6033533634\n",
      "muwb for zero trace= 12.5720286248\n"
     ]
    }
   ],
   "source": [
    "import numpy as np\n",
    "import matplotlib.pylab as mp\n",
    "from scipy.interpolate import interp1d\n",
    "\n",
    "# load data\n",
    "ftb_data = np.loadtxt('tbfi2.dat')\n",
    "fwb_data = np.loadtxt('wbfi.tab')\n",
    "\n",
    "# name some values for easy reading\n",
    "ftb_input_lower_bound = ftb_data[0,0]\n",
    "ftb_input_upper_bound = ftb_data[-1,0]\n",
    "\n",
    "fwb_input_lower_bound = fwb_data[1]\n",
    "fwb_input_upper_bound = fwb_data[2]\n",
    "\n",
    "fwb_domain = np.linspace(fwb_input_lower_bound,fwb_input_upper_bound,fwb_data[0])\n",
    "\n",
    "# define interpolating functions for frequency-current\n",
    "tbfi = interp1d(ftb_data[:,0],ftb_data[:,1])\n",
    "wbfi = interp1d(fwb_domain,fwb_data[3:])\n",
    "\n",
    "# define inverse interpolating functions for frequency-current\n",
    "# well-defind because the FI curves are monotonic\n",
    "tbfi_inv = interp1d(ftb_data[:,1],ftb_data[:,0])\n",
    "wbfi_inv = interp1d(fwb_data[3:],fwb_domain)\n",
    "\n",
    "# choose f and find corresponding input current\n",
    "f = 0.05\n",
    "itb = tbfi_inv(f)\n",
    "iwb = wbfi_inv(f)\n",
    "\n",
    "# get derivatives at chosen fixed point f\n",
    "ftb_prime = (tbfi(itb+.00001)-tbfi(itb))/.00001\n",
    "fwb_prime = (wbfi(iwb+.00001)-wbfi(iwb))/.00001\n",
    "\n",
    "print 'ftb_prime =',ftb_prime\n",
    "print 'fwb_prime =',fwb_prime\n",
    "\n",
    "# choose params\n",
    "#gee=100;gei=90\n",
    "#gie=23.6;gii=15.21\n",
    "\n",
    "gee=90;gei=89\n",
    "gie=15;gii=14.\n",
    "\n",
    "# determine constant term (it for traub, i0 for wb)\n",
    "it = (itb-f*(gee-gei))\n",
    "i0 = (iwb-f*(gie-gii))\n",
    "\n",
    "print 'it cons =',it, 'iwb cons =',i0\n",
    "print 'it mean =',itb, 'iwb mean =',iwb\n",
    "\n",
    "# slow variable params\n",
    "mutb=1;muwb=1\n",
    "\n",
    "# Jacobian of mean field system\n",
    "Jac = np.array([[(-1+ftb_prime*gee)/mutb, -ftb_prime*gei/mutb],\n",
    "                [fwb_prime*gie/muwb, (-1-fwb_prime*gii)/muwb]])\n",
    "\n",
    "e,v = np.linalg.eig(Jac)\n",
    "\n",
    "print 'eigenvalues',e\n",
    "#print 'sqrt(tr^2 - 4det) =',np.sqrt(np.trace(Jac)**2.-4.*np.linalg.det(Jac)+0*1j)\n",
    "print 'trace =',(-1+ftb_prime*gee)/mutb +  (-1-fwb_prime*gii)/muwb\n",
    "print 'muwb for zero trace=',(1-fwb_prime*(-gii))/(-1+ftb_prime*gee)\n",
    "#print (1-fwb_prime*(-gii)),(-1+ftb_prime*gee)\n",
    "\n",
    "# plot FI curve\n",
    "if False:\n",
    "    mp.figure()\n",
    "    mp.plot(ftb_data[:,0],ftb_data[:,1])\n",
    "    mp.plot(fwb_data[:,0],fwb_data[:,1])\n",
    "    x = np.linspace(ftb_input_lower_bound,10,100)\n",
    "    mp.plot(x,tbfi(x))\n",
    "    mp.show()\n",
    "\n",
    "#ftb(it+gee*str- gei*swb) = ftb(itb)\n",
    "#fwb(i0 + gie*str- gii*swb) = fwb(iwb)."
   ]
  },
  {
   "cell_type": "code",
   "execution_count": null,
   "metadata": {
    "collapsed": true
   },
   "outputs": [],
   "source": []
  },
  {
   "cell_type": "code",
   "execution_count": null,
   "metadata": {
    "collapsed": true
   },
   "outputs": [],
   "source": []
  }
 ],
 "metadata": {
  "kernelspec": {
   "display_name": "Python 2",
   "language": "python",
   "name": "python2"
  },
  "language_info": {
   "codemirror_mode": {
    "name": "ipython",
    "version": 2
   },
   "file_extension": ".py",
   "mimetype": "text/x-python",
   "name": "python",
   "nbconvert_exporter": "python",
   "pygments_lexer": "ipython2",
   "version": "2.7.6"
  }
 },
 "nbformat": 4,
 "nbformat_minor": 2
}

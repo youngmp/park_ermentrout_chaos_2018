{
 "cells": [
  {
   "cell_type": "markdown",
   "metadata": {},
   "source": [
    "Use this notebook file to convert from a dat file to a tab file. This conversion is important because XPP needs uniformly spaced data points.\n",
    "\n",
    "To guarantee that the data points are uniformly spaced (in the domain), we generate an interpolated function given the x,y coordinates, then input a linspace with uniformly spaced values. This returns uniformly spaced data values.\n",
    "\n",
    "To make it clear what's happening, consider the outputs of the function $f(x)=x^2$:\n",
    "\n",
    "If $x = [1,4,5]$ then $f(x) = [1,16,25]$. Writing this data directly into XPP would mean writing the tab file as\n",
    "\n",
    "$3 (npts)\\\\\n",
    "1 (xlo)\\\\\n",
    "5 (xhi)\\\\\n",
    "1 (yvalue 1)\\\\\n",
    "16 (yvalue 2)\\\\\n",
    "25 (yvalue 3)$\n",
    "\n",
    "Then XPP would create a table by diving the interval [1,5] into 3 numbers and assigning each domain value with the corresponding y values. so XPP would see the domain as [1,3,5] and the corresponding y-values as [1,16,25]. This information is is not what we started with, and XPP will incorrectly interpolate.\n",
    "\n",
    "To fix this issue, we create an interpolated function in python like f = scipy.interpolate.interp1d([1,4,5],[1,16,25]). Then throw in uniformly spaced domain values dom = linspace(1,5,3). Then f(dom) will return the best corresponding y-values which we can then use in XPP.\n",
    "\n",
    "TODO:\n",
    "I want to add a script that automatically fixes data ordering so that x-values are always increasing.\n"
   ]
  },
  {
   "cell_type": "code",
   "execution_count": 3,
   "metadata": {},
   "outputs": [
    {
     "name": "stdout",
     "output_type": "stream",
     "text": [
      "period 20.0\n"
     ]
    }
   ],
   "source": [
    "import numpy as np\n",
    "from thetaslowmod_lib import dat2tab\n",
    "\n",
    "# load dat file\n",
    "#namexx = 'hxx_a1=0.5_b1=7.0_c1=6.5_a2=1.1_b2=25.0_c2=25.1_eps=0.01_mux=1.0_muy=1.0.dat'\n",
    "#namexy = 'hxy_a1=0.5_b1=7.0_c1=6.5_a2=1.1_b2=25.0_c2=25.1_eps=0.01_mux=1.0_muy=1.0.dat'\n",
    "#nameyx = 'hyx_a1=0.5_b1=7.0_c1=6.5_a2=1.1_b2=25.0_c2=25.1_eps=0.01_mux=1.0_muy=1.0.dat'\n",
    "#nameyy = 'hyy_a1=0.5_b1=7.0_c1=6.5_a2=1.1_b2=25.0_c2=25.1_eps=0.01_mux=1.0_muy=1.0.dat'\n",
    "\n",
    "#namexx = 'hxx_fixed_a1=0.1_b1=1.0_c1=1.1_a2=0.1_b2=1.0_c2=1.1_eps=0.01_mux=1.0_muy=1.0.dat'\n",
    "#namexy = 'hxy_fixed_a1=0.1_b1=1.0_c1=1.1_a2=0.1_b2=1.0_c2=1.1_eps=0.01_mux=1.0_muy=1.0.dat'\n",
    "#nameyx = 'hyx_fixed_a1=0.1_b1=1.0_c1=1.1_a2=0.1_b2=1.0_c2=1.1_eps=0.01_mux=1.0_muy=1.0.dat'\n",
    "#nameyy = 'hyy_fixed_a1=0.1_b1=1.0_c1=1.1_a2=0.1_b2=1.0_c2=1.1_eps=0.01_mux=1.0_muy=1.0.dat'\n",
    "\n",
    "#namexx = 'tbwb_hxx_fixed_eps=0.0025_mux=1.0_muy=6.0_gee=50.0_gei=54.0_gie=13.0_gii=10.0_N=2.dat'\n",
    "#namexy = 'tbwb_hxy_fixed_eps=0.0025_mux=1.0_muy=6.0_gee=50.0_gei=54.0_gie=13.0_gii=10.0_N=2.dat'\n",
    "#nameyx = 'tbwb_hyx_fixed_eps=0.0025_mux=1.0_muy=6.0_gee=50.0_gei=54.0_gie=13.0_gii=10.0_N=2.dat'\n",
    "#nameyy = 'tbwb_hyy_fixed_eps=0.0025_mux=1.0_muy=6.0_gee=50.0_gei=54.0_gie=13.0_gii=10.0_N=2.dat'\n",
    "\n",
    "#namexx = 'tbwb_hxx_fixed_eps=0.0025_mux=1.0_muy=1.0_gee=50.0_gei=54.0_gie=13.0_gii=10.0_N=2.dat'\n",
    "#namexy = 'tbwb_hxy_fixed_eps=0.0025_mux=1.0_muy=1.0_gee=50.0_gei=54.0_gie=13.0_gii=10.0_N=2.dat'\n",
    "#nameyx = 'tbwb_hyx_fixed_eps=0.0025_mux=1.0_muy=1.0_gee=50.0_gei=54.0_gie=13.0_gii=10.0_N=2.dat'\n",
    "#nameyy = 'tbwb_hyy_fixed_eps=0.0025_mux=1.0_muy=1.0_gee=50.0_gei=54.0_gie=13.0_gii=10.0_N=2.dat'\n",
    "\n",
    "namexx = 'h11_tbwb_eps=0.0025_mux=1.0_muy=1.0_gee=10.0_gei=24.0_gie=13.0_gii=10.0_N=2.dat'\n",
    "namexy = 'h12_tbwb_eps=0.0025_mux=1.0_muy=1.0_gee=10.0_gei=24.0_gie=13.0_gii=10.0_N=2.dat'\n",
    "nameyx = 'h21_tbwb_eps=0.0025_mux=1.0_muy=1.0_gee=10.0_gei=24.0_gie=13.0_gii=10.0_N=2.dat'\n",
    "nameyy = 'h22_tbwb_eps=0.0025_mux=1.0_muy=1.0_gee=10.0_gei=24.0_gie=13.0_gii=10.0_N=2.dat'\n",
    "\n",
    "\n",
    "#namexx = 'tbwb_hxx_fixed_eps=0.0025_mux=1.0_muy=1.0_gee=101.5_gei=104.0_gie=13.0_gii=10.5_N=2.dat'\n",
    "#namexy = 'tbwb_hxy_fixed_eps=0.0025_mux=1.0_muy=1.0_gee=101.5_gei=104.0_gie=13.0_gii=10.5_N=2.dat'\n",
    "#nameyx = 'tbwb_hyx_fixed_eps=0.0025_mux=1.0_muy=1.0_gee=101.5_gei=104.0_gie=13.0_gii=10.5_N=2.dat'\n",
    "#nameyy = 'tbwb_hyy_fixed_eps=0.0025_mux=1.0_muy=1.0_gee=101.5_gei=104.0_gie=13.0_gii=10.5_N=2.dat'\n",
    "\n",
    "#namexx = 'hxx_a1=0.5_b1=7.0_c1=6.5_a2=1.1_b2=25.0_c2=25.1_eps=0.01_mux=1.0_muy=1.0.dat'\n",
    "#namexy = 'hxy_a1=0.5_b1=7.0_c1=6.5_a2=1.1_b2=25.0_c2=25.1_eps=0.01_mux=1.0_muy=1.0.dat'\n",
    "#nameyx = 'hyx_a1=0.5_b1=7.0_c1=6.5_a2=1.1_b2=25.0_c2=25.1_eps=0.01_mux=1.0_muy=1.0.dat'\n",
    "#nameyy = 'hyy_a1=0.5_b1=7.0_c1=6.5_a2=1.1_b2=25.0_c2=25.1_eps=0.01_mux=1.0_muy=1.0.dat'\n",
    "\n",
    "\n",
    "datxx=np.loadtxt(namexx);datxy=np.loadtxt(namexy);datyx=np.loadtxt(nameyx);datyy=np.loadtxt(nameyy)\n",
    "\n",
    "print 'period', datxx[-1,0]\n",
    "\n",
    "dat2tab(datxx,namexx[:-3]+'tab')\n",
    "dat2tab(datxy,namexy[:-3]+'tab')\n",
    "dat2tab(datyx,nameyx[:-3]+'tab')\n",
    "dat2tab(datyy,nameyy[:-3]+'tab')"
   ]
  },
  {
   "cell_type": "code",
   "execution_count": null,
   "metadata": {
    "collapsed": true
   },
   "outputs": [],
   "source": []
  }
 ],
 "metadata": {
  "kernelspec": {
   "display_name": "Python 2",
   "language": "python",
   "name": "python2"
  },
  "language_info": {
   "codemirror_mode": {
    "name": "ipython",
    "version": 2
   },
   "file_extension": ".py",
   "mimetype": "text/x-python",
   "name": "python",
   "nbconvert_exporter": "python",
   "pygments_lexer": "ipython2",
   "version": "2.7.12"
  }
 },
 "nbformat": 4,
 "nbformat_minor": 2
}

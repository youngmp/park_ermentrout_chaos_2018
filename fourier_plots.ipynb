{
 "cells": [
  {
   "cell_type": "markdown",
   "metadata": {},
   "source": [
    "This notebook file is to generate quick plots of fourier data. It's first purpose is to reduce the string size of fourier series calculations."
   ]
  },
  {
   "cell_type": "code",
   "execution_count": 10,
   "metadata": {},
   "outputs": [
    {
     "data": {
      "image/png": "[encoded data removed]",
      "text/plain": [
       "<matplotlib.figure.Figure at 0x7f8323b13950>"
      ]
     },
     "metadata": {},
     "output_type": "display_data"
    }
   ],
   "source": [
    "import numpy as np\n",
    "import matplotlib.pyplot as plt\n",
    "\n",
    "cos = np.cos\n",
    "sin = np.sin\n",
    "\n",
    "def hxx(x):\n",
    "    return -2*0.202795667523*cos(1*x)\\\n",
    "            -2*0.0725604693117*sin(1*x)\\\n",
    "            -2*0.00148292073642*cos(2*x)\\\n",
    "            -2*0.0366398313165*sin(2*x)\\\n",
    "            +2*0.00409745449641*cos(3*x)\\\n",
    "            -2*0.00780934709169*sin(3*x)\\\n",
    "            +2*0.00197546736019*cos(4*x)\\\n",
    "            -2*0.00224877555534*sin(4*x)\n",
    "            \n",
    "            \n",
    "            \n",
    "x = np.linspace(0,2*np.pi,100)\n",
    "\n",
    "fig = plt.figure()\n",
    "ax = fig.add_subplot(111)\n",
    "ax.plot(x,hxx(x))\n",
    "plt.show()"
   ]
  },
  {
   "cell_type": "code",
   "execution_count": null,
   "metadata": {},
   "outputs": [],
   "source": []
  }
 ],
 "metadata": {
  "kernelspec": {
   "display_name": "Python 2",
   "language": "python",
   "name": "python2"
  },
  "language_info": {
   "codemirror_mode": {
    "name": "ipython",
    "version": 2
   },
   "file_extension": ".py",
   "mimetype": "text/x-python",
   "name": "python",
   "nbconvert_exporter": "python",
   "pygments_lexer": "ipython2",
   "version": "2.7.12"
  }
 },
 "nbformat": 4,
 "nbformat_minor": 2
}
